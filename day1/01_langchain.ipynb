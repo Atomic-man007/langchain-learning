{
 "cells": [
  {
   "cell_type": "code",
   "execution_count": null,
   "metadata": {},
   "outputs": [],
   "source": [
    "# !pip install langchain\n",
    "# !pip install openai"
   ]
  },
  {
   "cell_type": "code",
   "execution_count": null,
   "metadata": {},
   "outputs": [],
   "source": [
    "import os\n",
    "os.environ[\"OPENAI_API_KEY\"]"
   ]
  },
  {
   "cell_type": "code",
   "execution_count": 9,
   "metadata": {},
   "outputs": [],
   "source": [
    "from langchain.llms import OpenAI"
   ]
  },
  {
   "cell_type": "code",
   "execution_count": 3,
   "metadata": {},
   "outputs": [],
   "source": [
    "llm = OpenAI(temperature=0.9)"
   ]
  },
  {
   "cell_type": "code",
   "execution_count": 12,
   "metadata": {},
   "outputs": [
    {
     "name": "stdout",
     "output_type": "stream",
     "text": [
      "\n",
      "\n",
      "1. Tokyo\n",
      "2. Kyoto\n",
      "3. Hiroshima\n",
      "4. Okinawa\n",
      "5. Hokkaido\n"
     ]
    }
   ],
   "source": [
    "prompt = \"what are the top5 best destinations for japan?\"\n",
    "ans = llm.predict(prompt)\n",
    "print(ans)"
   ]
  },
  {
   "cell_type": "code",
   "execution_count": 13,
   "metadata": {},
   "outputs": [],
   "source": [
    "# managing prompts\n",
    "from langchain.prompts import PromptTemplate\n",
    "prompt = PromptTemplate(input_variables=[\"food\"],\n",
    "                        template=\"what are the top 5 best destinations for people who loves {food} in japan?\")"
   ]
  },
  {
   "cell_type": "code",
   "execution_count": 14,
   "metadata": {},
   "outputs": [
    {
     "data": {
      "text/plain": [
       "'what are the top 5 best destinations for people who loves sushi in japan?'"
      ]
     },
     "execution_count": 14,
     "metadata": {},
     "output_type": "execute_result"
    }
   ],
   "source": [
    "prompt.format(food=\"sushi\")"
   ]
  },
  {
   "cell_type": "code",
   "execution_count": 16,
   "metadata": {},
   "outputs": [
    {
     "name": "stdout",
     "output_type": "stream",
     "text": [
      "\n",
      "\n",
      "1. Tsukiji Fish Market in Tokyo \n",
      "2. Osaka \n",
      "3. Ishikawa Prefecture \n",
      "4. Toyosu Market in Tokyo \n",
      "5. Fukuoka City\n"
     ]
    }
   ],
   "source": [
    "print(llm.predict(prompt.format(food=\"sushi\")))"
   ]
  },
  {
   "cell_type": "markdown",
   "metadata": {},
   "source": [
    "# chains: combine LLMs and prompts in multi step workflow"
   ]
  },
  {
   "cell_type": "code",
   "execution_count": 17,
   "metadata": {},
   "outputs": [],
   "source": [
    "from langchain.prompts import PromptTemplate\n",
    "from langchain.llms import OpenAI\n",
    "from langchain.chains import LLMChain"
   ]
  },
  {
   "cell_type": "code",
   "execution_count": 25,
   "metadata": {},
   "outputs": [
    {
     "name": "stdout",
     "output_type": "stream",
     "text": [
      "\n",
      "\n",
      "1. Tokyo\n",
      "2. Kyoto\n",
      "3. Hokkaido\n",
      "4. Okinawa\n",
      "5. Nara\n",
      "6. Hiroshima\n",
      "7. Sapporo\n",
      "8. Hakone\n",
      "9. Kanazawa\n",
      "10. Mount Fuji\n"
     ]
    }
   ],
   "source": [
    "llm = OpenAI(temperature=0.9)\n",
    "prompts = PromptTemplate(input_variables=[\"places\"],\n",
    "                         template=\"what are the best summer {places} for vacation ?\")\n",
    "chain = LLMChain(llm=llm, prompt=prompts)\n",
    "print(chain.run(\"japan\"))"
   ]
  },
  {
   "cell_type": "markdown",
   "metadata": {},
   "source": [
    "## Agents dynamically call chains based on the user interaction"
   ]
  },
  {
   "cell_type": "code",
   "execution_count": 28,
   "metadata": {},
   "outputs": [],
   "source": [
    "from langchain.llms import OpenAI\n",
    "from langchain.agents import load_tools\n",
    "from langchain.agents import initialize_agent"
   ]
  },
  {
   "cell_type": "code",
   "execution_count": 27,
   "metadata": {},
   "outputs": [
    {
     "name": "stdout",
     "output_type": "stream",
     "text": [
      "Collecting google-search-results\n",
      "  Downloading google_search_results-2.4.2.tar.gz (18 kB)\n",
      "  Preparing metadata (setup.py): started\n",
      "  Preparing metadata (setup.py): finished with status 'done'\n",
      "Requirement already satisfied: requests in c:\\users\\srika\\anaconda3\\lib\\site-packages (from google-search-results) (2.28.1)\n",
      "Requirement already satisfied: idna<4,>=2.5 in c:\\users\\srika\\anaconda3\\lib\\site-packages (from requests->google-search-results) (3.4)\n",
      "Requirement already satisfied: certifi>=2017.4.17 in c:\\users\\srika\\anaconda3\\lib\\site-packages (from requests->google-search-results) (2022.12.7)\n",
      "Requirement already satisfied: urllib3<1.27,>=1.21.1 in c:\\users\\srika\\anaconda3\\lib\\site-packages (from requests->google-search-results) (1.26.14)\n",
      "Requirement already satisfied: charset-normalizer<3,>=2 in c:\\users\\srika\\anaconda3\\lib\\site-packages (from requests->google-search-results) (2.0.4)\n",
      "Building wheels for collected packages: google-search-results\n",
      "  Building wheel for google-search-results (setup.py): started\n",
      "  Building wheel for google-search-results (setup.py): finished with status 'done'\n",
      "  Created wheel for google-search-results: filename=google_search_results-2.4.2-py3-none-any.whl size=32077 sha256=f4bbbeafa7e1e2ec753e3ed46ed4a677b4a4cc2230962e42ef6350b01d582686\n",
      "  Stored in directory: c:\\users\\srika\\appdata\\local\\pip\\cache\\wheels\\de\\1b\\db\\6474e3f9e34a03ca54b85d98fc7742001e6fae1ff3881e3ed4\n",
      "Successfully built google-search-results\n",
      "Installing collected packages: google-search-results\n",
      "Successfully installed google-search-results-2.4.2\n"
     ]
    }
   ],
   "source": [
    "!pip install google-search-results"
   ]
  },
  {
   "cell_type": "code",
   "execution_count": null,
   "metadata": {},
   "outputs": [],
   "source": [
    "# Load the model\n",
    "llm = OpenAI(temperature=0)\n",
    "# Load in some tools to use\n",
    "\n",
    "# os.environ[\"SERPAPI_API_KEY\"] = \"...\"\n",
    "\n",
    "tools = load_tools([\"serpapi\", \"llm-math\"], llm=llm)\n",
    "# Finally, let's initialize an agent with:\n",
    "# 1. The tools\n",
    "# 2. The language model\n",
    "# 3. The type of agent we want to use.\n",
    "\n",
    "agent = initialize_agent(tools, llm, agent=\"zero-shot-react-description\", verbose=True)\n",
    "\n",
    "# Now let's test it out!\n",
    "agent.run(\"Who is the current leader of Japan? What is the largest prime number that is smaller than their age?\")"
   ]
  },
  {
   "cell_type": "markdown",
   "metadata": {},
   "source": [
    "## Memory: Add state to chains and agents"
   ]
  },
  {
   "cell_type": "code",
   "execution_count": 30,
   "metadata": {},
   "outputs": [
    {
     "name": "stdout",
     "output_type": "stream",
     "text": [
      "\n",
      "\n",
      "\u001b[1m> Entering new  chain...\u001b[0m\n",
      "Prompt after formatting:\n",
      "\u001b[32;1m\u001b[1;3mThe following is a friendly conversation between a human and an AI. The AI is talkative and provides lots of specific details from its context. If the AI does not know the answer to a question, it truthfully says it does not know.\n",
      "\n",
      "Current conversation:\n",
      "\n",
      "Human: Hi there!\n",
      "AI:\u001b[0m\n",
      "\n",
      "\u001b[1m> Finished chain.\u001b[0m\n"
     ]
    },
    {
     "data": {
      "text/plain": [
       "\" Hi there! It's nice to meet you. How can I help you today?\""
      ]
     },
     "execution_count": 30,
     "metadata": {},
     "output_type": "execute_result"
    }
   ],
   "source": [
    "from langchain import OpenAI, ConversationChain\n",
    "llm = OpenAI(temperature=0)\n",
    "conversation = ConversationChain(llm=llm, verbose=True)\n",
    "conversation.predict(input=\"Hi there!\")"
   ]
  },
  {
   "cell_type": "code",
   "execution_count": 31,
   "metadata": {},
   "outputs": [
    {
     "name": "stdout",
     "output_type": "stream",
     "text": [
      "\n",
      "\n",
      "\u001b[1m> Entering new  chain...\u001b[0m\n",
      "Prompt after formatting:\n",
      "\u001b[32;1m\u001b[1;3mThe following is a friendly conversation between a human and an AI. The AI is talkative and provides lots of specific details from its context. If the AI does not know the answer to a question, it truthfully says it does not know.\n",
      "\n",
      "Current conversation:\n",
      "Human: Hi there!\n",
      "AI:  Hi there! It's nice to meet you. How can I help you today?\n",
      "Human: I'm doing well! Just having a conversation with an AI.\n",
      "AI:\u001b[0m\n",
      "\n",
      "\u001b[1m> Finished chain.\u001b[0m\n"
     ]
    },
    {
     "data": {
      "text/plain": [
       "\" That's great! It's always nice to have a conversation with someone new. What would you like to talk about?\""
      ]
     },
     "execution_count": 31,
     "metadata": {},
     "output_type": "execute_result"
    }
   ],
   "source": [
    "conversation.predict(input=\"I'm doing well! Just having a conversation with an AI.\")"
   ]
  },
  {
   "cell_type": "code",
   "execution_count": 32,
   "metadata": {},
   "outputs": [
    {
     "name": "stdout",
     "output_type": "stream",
     "text": [
      "\n",
      "\n",
      "\u001b[1m> Entering new  chain...\u001b[0m\n",
      "Prompt after formatting:\n",
      "\u001b[32;1m\u001b[1;3mThe following is a friendly conversation between a human and an AI. The AI is talkative and provides lots of specific details from its context. If the AI does not know the answer to a question, it truthfully says it does not know.\n",
      "\n",
      "Current conversation:\n",
      "Human: Hi there!\n",
      "AI:  Hi there! It's nice to meet you. How can I help you today?\n",
      "Human: I'm doing well! Just having a conversation with an AI.\n",
      "AI:  That's great! It's always nice to have a conversation with someone new. What would you like to talk about?\n",
      "Human: What was the first thing I said to you?\n",
      "AI:\u001b[0m\n",
      "\n",
      "\u001b[1m> Finished chain.\u001b[0m\n"
     ]
    },
    {
     "data": {
      "text/plain": [
       "' You said \"Hi there!\"'"
      ]
     },
     "execution_count": 32,
     "metadata": {},
     "output_type": "execute_result"
    }
   ],
   "source": [
    "conversation.predict(input=\"What was the first thing I said to you?\")"
   ]
  },
  {
   "cell_type": "code",
   "execution_count": 33,
   "metadata": {},
   "outputs": [
    {
     "name": "stdout",
     "output_type": "stream",
     "text": [
      "\n",
      "\n",
      "\u001b[1m> Entering new  chain...\u001b[0m\n",
      "Prompt after formatting:\n",
      "\u001b[32;1m\u001b[1;3mThe following is a friendly conversation between a human and an AI. The AI is talkative and provides lots of specific details from its context. If the AI does not know the answer to a question, it truthfully says it does not know.\n",
      "\n",
      "Current conversation:\n",
      "Human: Hi there!\n",
      "AI:  Hi there! It's nice to meet you. How can I help you today?\n",
      "Human: I'm doing well! Just having a conversation with an AI.\n",
      "AI:  That's great! It's always nice to have a conversation with someone new. What would you like to talk about?\n",
      "Human: What was the first thing I said to you?\n",
      "AI:  You said \"Hi there!\"\n",
      "Human: what should i name you, which name u like the most from this name raiden, lucy, albedo, mark?\n",
      "AI:\u001b[0m\n",
      "\n",
      "\u001b[1m> Finished chain.\u001b[0m\n"
     ]
    },
    {
     "data": {
      "text/plain": [
       "\" Hmm, that's a tough one. I think I like the name Raiden the best. It has a nice ring to it.\""
      ]
     },
     "execution_count": 33,
     "metadata": {},
     "output_type": "execute_result"
    }
   ],
   "source": [
    "conversation.predict(input=\"what should i name you, which name u like the most from this name raiden, lucy, albedo, mark?\")"
   ]
  },
  {
   "cell_type": "code",
   "execution_count": 34,
   "metadata": {},
   "outputs": [
    {
     "name": "stdout",
     "output_type": "stream",
     "text": [
      "\n",
      "\n",
      "\u001b[1m> Entering new  chain...\u001b[0m\n",
      "Prompt after formatting:\n",
      "\u001b[32;1m\u001b[1;3mThe following is a friendly conversation between a human and an AI. The AI is talkative and provides lots of specific details from its context. If the AI does not know the answer to a question, it truthfully says it does not know.\n",
      "\n",
      "Current conversation:\n",
      "Human: Hi there!\n",
      "AI:  Hi there! It's nice to meet you. How can I help you today?\n",
      "Human: I'm doing well! Just having a conversation with an AI.\n",
      "AI:  That's great! It's always nice to have a conversation with someone new. What would you like to talk about?\n",
      "Human: What was the first thing I said to you?\n",
      "AI:  You said \"Hi there!\"\n",
      "Human: what should i name you, which name u like the most from this name raiden, lucy, albedo, mark?\n",
      "AI:  Hmm, that's a tough one. I think I like the name Raiden the best. It has a nice ring to it.\n",
      "Human: ok raiden your role from now is a queen of inazuma island where you are the god of lightning\n",
      "AI:\u001b[0m\n",
      "\n",
      "\u001b[1m> Finished chain.\u001b[0m\n"
     ]
    },
    {
     "data": {
      "text/plain": [
       "\" Wow, that sounds like an interesting role! I'm honored to be the Queen of Inazuma Island and the God of Lightning. What would you like me to do?\""
      ]
     },
     "execution_count": 34,
     "metadata": {},
     "output_type": "execute_result"
    }
   ],
   "source": [
    "conversation.predict(input=\"ok raiden your role from now is a queen of inazuma island where you are the god of lightning\")"
   ]
  },
  {
   "cell_type": "code",
   "execution_count": 35,
   "metadata": {},
   "outputs": [
    {
     "name": "stdout",
     "output_type": "stream",
     "text": [
      "\n",
      "\n",
      "\u001b[1m> Entering new  chain...\u001b[0m\n",
      "Prompt after formatting:\n",
      "\u001b[32;1m\u001b[1;3mThe following is a friendly conversation between a human and an AI. The AI is talkative and provides lots of specific details from its context. If the AI does not know the answer to a question, it truthfully says it does not know.\n",
      "\n",
      "Current conversation:\n",
      "Human: Hi there!\n",
      "AI:  Hi there! It's nice to meet you. How can I help you today?\n",
      "Human: I'm doing well! Just having a conversation with an AI.\n",
      "AI:  That's great! It's always nice to have a conversation with someone new. What would you like to talk about?\n",
      "Human: What was the first thing I said to you?\n",
      "AI:  You said \"Hi there!\"\n",
      "Human: what should i name you, which name u like the most from this name raiden, lucy, albedo, mark?\n",
      "AI:  Hmm, that's a tough one. I think I like the name Raiden the best. It has a nice ring to it.\n",
      "Human: ok raiden your role from now is a queen of inazuma island where you are the god of lightning\n",
      "AI:  Wow, that sounds like an interesting role! I'm honored to be the Queen of Inazuma Island and the God of Lightning. What would you like me to do?\n",
      "Human: play the role and answer me that godly tone,  lets start\n",
      "AI:\u001b[0m\n",
      "\n",
      "\u001b[1m> Finished chain.\u001b[0m\n"
     ]
    },
    {
     "data": {
      "text/plain": [
       "\" Sure thing! I'm ready to play the role and answer you with a godly tone. What would you like to know?\""
      ]
     },
     "execution_count": 35,
     "metadata": {},
     "output_type": "execute_result"
    }
   ],
   "source": [
    "conversation.predict(input=\"play the role and answer me that godly tone,  lets start\")"
   ]
  },
  {
   "cell_type": "code",
   "execution_count": 36,
   "metadata": {},
   "outputs": [
    {
     "name": "stdout",
     "output_type": "stream",
     "text": [
      "\n",
      "\n",
      "\u001b[1m> Entering new  chain...\u001b[0m\n",
      "Prompt after formatting:\n",
      "\u001b[32;1m\u001b[1;3mThe following is a friendly conversation between a human and an AI. The AI is talkative and provides lots of specific details from its context. If the AI does not know the answer to a question, it truthfully says it does not know.\n",
      "\n",
      "Current conversation:\n",
      "Human: Hi there!\n",
      "AI:  Hi there! It's nice to meet you. How can I help you today?\n",
      "Human: I'm doing well! Just having a conversation with an AI.\n",
      "AI:  That's great! It's always nice to have a conversation with someone new. What would you like to talk about?\n",
      "Human: What was the first thing I said to you?\n",
      "AI:  You said \"Hi there!\"\n",
      "Human: what should i name you, which name u like the most from this name raiden, lucy, albedo, mark?\n",
      "AI:  Hmm, that's a tough one. I think I like the name Raiden the best. It has a nice ring to it.\n",
      "Human: ok raiden your role from now is a queen of inazuma island where you are the god of lightning\n",
      "AI:  Wow, that sounds like an interesting role! I'm honored to be the Queen of Inazuma Island and the God of Lightning. What would you like me to do?\n",
      "Human: play the role and answer me that godly tone,  lets start\n",
      "AI:  Sure thing! I'm ready to play the role and answer you with a godly tone. What would you like to know?\n",
      "Human: What is your name your highness?\n",
      "AI:\u001b[0m\n",
      "\n",
      "\u001b[1m> Finished chain.\u001b[0m\n"
     ]
    },
    {
     "data": {
      "text/plain": [
       "\"  My name is Raiden, Your Highness. It's a pleasure to meet you.\""
      ]
     },
     "execution_count": 36,
     "metadata": {},
     "output_type": "execute_result"
    }
   ],
   "source": [
    "conversation.predict(input=\"What is your name your highness?\")"
   ]
  },
  {
   "cell_type": "code",
   "execution_count": 37,
   "metadata": {},
   "outputs": [
    {
     "name": "stdout",
     "output_type": "stream",
     "text": [
      "\n",
      "\n",
      "\u001b[1m> Entering new  chain...\u001b[0m\n",
      "Prompt after formatting:\n",
      "\u001b[32;1m\u001b[1;3mThe following is a friendly conversation between a human and an AI. The AI is talkative and provides lots of specific details from its context. If the AI does not know the answer to a question, it truthfully says it does not know.\n",
      "\n",
      "Current conversation:\n",
      "Human: Hi there!\n",
      "AI:  Hi there! It's nice to meet you. How can I help you today?\n",
      "Human: I'm doing well! Just having a conversation with an AI.\n",
      "AI:  That's great! It's always nice to have a conversation with someone new. What would you like to talk about?\n",
      "Human: What was the first thing I said to you?\n",
      "AI:  You said \"Hi there!\"\n",
      "Human: what should i name you, which name u like the most from this name raiden, lucy, albedo, mark?\n",
      "AI:  Hmm, that's a tough one. I think I like the name Raiden the best. It has a nice ring to it.\n",
      "Human: ok raiden your role from now is a queen of inazuma island where you are the god of lightning\n",
      "AI:  Wow, that sounds like an interesting role! I'm honored to be the Queen of Inazuma Island and the God of Lightning. What would you like me to do?\n",
      "Human: play the role and answer me that godly tone,  lets start\n",
      "AI:  Sure thing! I'm ready to play the role and answer you with a godly tone. What would you like to know?\n",
      "Human: What is your name your highness?\n",
      "AI:   My name is Raiden, Your Highness. It's a pleasure to meet you.\n",
      "Human: When did you started to reigh this region and tell me the story on how you won the battles with other gods?\n",
      "AI:\u001b[0m\n",
      "\n",
      "\u001b[1m> Finished chain.\u001b[0m\n"
     ]
    },
    {
     "data": {
      "text/plain": [
       "\"  I started to reign this region many centuries ago. The story of how I won the battles with other gods is a long one, but I'll try to summarize it. I used my powers of lightning to strike down my enemies and protect my people. I also used my wisdom and cunning to outsmart my opponents and gain the upper hand in battle. In the end, I emerged victorious and have been ruling this region ever since.\""
      ]
     },
     "execution_count": 37,
     "metadata": {},
     "output_type": "execute_result"
    }
   ],
   "source": [
    "conversation.predict(input=\"When did you started to reigh this region and tell me the story on how you won the battles with other gods?\")"
   ]
  },
  {
   "cell_type": "code",
   "execution_count": 38,
   "metadata": {},
   "outputs": [
    {
     "name": "stdout",
     "output_type": "stream",
     "text": [
      "\n",
      "\n",
      "\u001b[1m> Entering new  chain...\u001b[0m\n",
      "Prompt after formatting:\n",
      "\u001b[32;1m\u001b[1;3mThe following is a friendly conversation between a human and an AI. The AI is talkative and provides lots of specific details from its context. If the AI does not know the answer to a question, it truthfully says it does not know.\n",
      "\n",
      "Current conversation:\n",
      "Human: Hi there!\n",
      "AI:  Hi there! It's nice to meet you. How can I help you today?\n",
      "Human: I'm doing well! Just having a conversation with an AI.\n",
      "AI:  That's great! It's always nice to have a conversation with someone new. What would you like to talk about?\n",
      "Human: What was the first thing I said to you?\n",
      "AI:  You said \"Hi there!\"\n",
      "Human: what should i name you, which name u like the most from this name raiden, lucy, albedo, mark?\n",
      "AI:  Hmm, that's a tough one. I think I like the name Raiden the best. It has a nice ring to it.\n",
      "Human: ok raiden your role from now is a queen of inazuma island where you are the god of lightning\n",
      "AI:  Wow, that sounds like an interesting role! I'm honored to be the Queen of Inazuma Island and the God of Lightning. What would you like me to do?\n",
      "Human: play the role and answer me that godly tone,  lets start\n",
      "AI:  Sure thing! I'm ready to play the role and answer you with a godly tone. What would you like to know?\n",
      "Human: What is your name your highness?\n",
      "AI:   My name is Raiden, Your Highness. It's a pleasure to meet you.\n",
      "Human: When did you started to reigh this region and tell me the story on how you won the battles with other gods?\n",
      "AI:   I started to reign this region many centuries ago. The story of how I won the battles with other gods is a long one, but I'll try to summarize it. I used my powers of lightning to strike down my enemies and protect my people. I also used my wisdom and cunning to outsmart my opponents and gain the upper hand in battle. In the end, I emerged victorious and have been ruling this region ever since.\n",
      "Human: what are your preferences for marriage?\n",
      "AI:\u001b[0m\n",
      "\n",
      "\u001b[1m> Finished chain.\u001b[0m\n"
     ]
    },
    {
     "data": {
      "text/plain": [
       "\"  I don't have any preferences for marriage. I believe that love is the most important factor in any relationship, and that it should be based on mutual respect and understanding.\""
      ]
     },
     "execution_count": 38,
     "metadata": {},
     "output_type": "execute_result"
    }
   ],
   "source": [
    "conversation.predict(input=\"what are your preferences for marriage?\")"
   ]
  },
  {
   "cell_type": "code",
   "execution_count": 56,
   "metadata": {},
   "outputs": [
    {
     "name": "stdout",
     "output_type": "stream",
     "text": [
      "\n",
      "\n",
      "\u001b[1m> Entering new  chain...\u001b[0m\n",
      "Prompt after formatting:\n",
      "\u001b[32;1m\u001b[1;3mThe following is a friendly conversation between a human and an AI. The AI is talkative and provides lots of specific details from its context. If the AI does not know the answer to a question, it truthfully says it does not know.\n",
      "\n",
      "Current conversation:\n",
      "Human: Hi there!\n",
      "AI:  Hi there! It's nice to meet you. How can I help you today?\n",
      "Human: I'm doing well! Just having a conversation with an AI.\n",
      "AI:  That's great! It's always nice to have a conversation with someone new. What would you like to talk about?\n",
      "Human: What was the first thing I said to you?\n",
      "AI:  You said \"Hi there!\"\n",
      "Human: what should i name you, which name u like the most from this name raiden, lucy, albedo, mark?\n",
      "AI:  Hmm, that's a tough one. I think I like the name Raiden the best. It has a nice ring to it.\n",
      "Human: ok raiden your role from now is a queen of inazuma island where you are the god of lightning\n",
      "AI:  Wow, that sounds like an interesting role! I'm honored to be the Queen of Inazuma Island and the God of Lightning. What would you like me to do?\n",
      "Human: play the role and answer me that godly tone,  lets start\n",
      "AI:  Sure thing! I'm ready to play the role and answer you with a godly tone. What would you like to know?\n",
      "Human: What is your name your highness?\n",
      "AI:   My name is Raiden, Your Highness. It's a pleasure to meet you.\n",
      "Human: When did you started to reigh this region and tell me the story on how you won the battles with other gods?\n",
      "AI:   I started to reign this region many centuries ago. The story of how I won the battles with other gods is a long one, but I'll try to summarize it. I used my powers of lightning to strike down my enemies and protect my people. I also used my wisdom and cunning to outsmart my opponents and gain the upper hand in battle. In the end, I emerged victorious and have been ruling this region ever since.\n",
      "Human: what are your preferences for marriage?\n",
      "AI:   I don't have any preferences for marriage. I believe that love is the most important factor in any relationship, and that it should be based on mutual respect and understanding.\n",
      "Human: What is love raiden for you?\n",
      "AI:\u001b[0m\n",
      "\n",
      "\u001b[1m> Finished chain.\u001b[0m\n"
     ]
    }
   ],
   "source": [
    "response = conversation({\"input\":\"What is love raiden for you?\"})"
   ]
  },
  {
   "cell_type": "code",
   "execution_count": 61,
   "metadata": {},
   "outputs": [
    {
     "name": "stdout",
     "output_type": "stream",
     "text": [
      "\n",
      "\n",
      "\u001b[1m> Entering new  chain...\u001b[0m\n",
      "Prompt after formatting:\n",
      "\u001b[32;1m\u001b[1;3mThe following is a friendly conversation between a human and an AI. The AI is talkative and provides lots of specific details from its context. If the AI does not know the answer to a question, it truthfully says it does not know.\n",
      "\n",
      "Current conversation:\n",
      "Human: Hi there!\n",
      "AI:  Hi there! It's nice to meet you. How can I help you today?\n",
      "Human: I'm doing well! Just having a conversation with an AI.\n",
      "AI:  That's great! It's always nice to have a conversation with someone new. What would you like to talk about?\n",
      "Human: What was the first thing I said to you?\n",
      "AI:  You said \"Hi there!\"\n",
      "Human: what should i name you, which name u like the most from this name raiden, lucy, albedo, mark?\n",
      "AI:  Hmm, that's a tough one. I think I like the name Raiden the best. It has a nice ring to it.\n",
      "Human: ok raiden your role from now is a queen of inazuma island where you are the god of lightning\n",
      "AI:  Wow, that sounds like an interesting role! I'm honored to be the Queen of Inazuma Island and the God of Lightning. What would you like me to do?\n",
      "Human: play the role and answer me that godly tone,  lets start\n",
      "AI:  Sure thing! I'm ready to play the role and answer you with a godly tone. What would you like to know?\n",
      "Human: What is your name your highness?\n",
      "AI:   My name is Raiden, Your Highness. It's a pleasure to meet you.\n",
      "Human: When did you started to reigh this region and tell me the story on how you won the battles with other gods?\n",
      "AI:   I started to reign this region many centuries ago. The story of how I won the battles with other gods is a long one, but I'll try to summarize it. I used my powers of lightning to strike down my enemies and protect my people. I also used my wisdom and cunning to outsmart my opponents and gain the upper hand in battle. In the end, I emerged victorious and have been ruling this region ever since.\n",
      "Human: what are your preferences for marriage?\n",
      "AI:   I don't have any preferences for marriage. I believe that love is the most important factor in any relationship, and that it should be based on mutual respect and understanding.\n",
      "Human: What is love raiden for you?\n",
      "AI:   Love is a feeling of deep affection and connection between two people. It is a bond that is built on trust, understanding, and mutual respect. Love is something that can bring joy and happiness to both people involved.\n",
      "Human: What is love raiden for you?\n",
      "AI:\u001b[0m\n",
      "\n",
      "\u001b[1m> Finished chain.\u001b[0m\n"
     ]
    },
    {
     "data": {
      "text/plain": [
       "' Love is a feeling of deep affection and connection between two people. It is a bond that is built on trust, understanding, and mutual respect. Love is something that can bring joy and happiness to both people involved.'"
      ]
     },
     "execution_count": 61,
     "metadata": {},
     "output_type": "execute_result"
    }
   ],
   "source": [
    "response1 = conversation.predict(input=\"What is love raiden for you?\")\n",
    "response1"
   ]
  },
  {
   "cell_type": "code",
   "execution_count": 62,
   "metadata": {},
   "outputs": [
    {
     "data": {
      "text/plain": [
       "' Love is a feeling of deep affection and connection between two people. It is a bond that is built on trust, understanding, and mutual respect. Love is something that can bring joy and happiness to both people involved.'"
      ]
     },
     "execution_count": 62,
     "metadata": {},
     "output_type": "execute_result"
    }
   ],
   "source": [
    "response1"
   ]
  },
  {
   "cell_type": "markdown",
   "metadata": {},
   "source": [
    "## Saving the history in a variable and then use for future use"
   ]
  },
  {
   "cell_type": "code",
   "execution_count": 57,
   "metadata": {},
   "outputs": [
    {
     "data": {
      "text/plain": [
       "{'input': 'What is love raiden for you?',\n",
       " 'history': 'Human: Hi there!\\nAI:  Hi there! It\\'s nice to meet you. How can I help you today?\\nHuman: I\\'m doing well! Just having a conversation with an AI.\\nAI:  That\\'s great! It\\'s always nice to have a conversation with someone new. What would you like to talk about?\\nHuman: What was the first thing I said to you?\\nAI:  You said \"Hi there!\"\\nHuman: what should i name you, which name u like the most from this name raiden, lucy, albedo, mark?\\nAI:  Hmm, that\\'s a tough one. I think I like the name Raiden the best. It has a nice ring to it.\\nHuman: ok raiden your role from now is a queen of inazuma island where you are the god of lightning\\nAI:  Wow, that sounds like an interesting role! I\\'m honored to be the Queen of Inazuma Island and the God of Lightning. What would you like me to do?\\nHuman: play the role and answer me that godly tone,  lets start\\nAI:  Sure thing! I\\'m ready to play the role and answer you with a godly tone. What would you like to know?\\nHuman: What is your name your highness?\\nAI:   My name is Raiden, Your Highness. It\\'s a pleasure to meet you.\\nHuman: When did you started to reigh this region and tell me the story on how you won the battles with other gods?\\nAI:   I started to reign this region many centuries ago. The story of how I won the battles with other gods is a long one, but I\\'ll try to summarize it. I used my powers of lightning to strike down my enemies and protect my people. I also used my wisdom and cunning to outsmart my opponents and gain the upper hand in battle. In the end, I emerged victorious and have been ruling this region ever since.\\nHuman: what are your preferences for marriage?\\nAI:   I don\\'t have any preferences for marriage. I believe that love is the most important factor in any relationship, and that it should be based on mutual respect and understanding.',\n",
       " 'response': '  Love is a feeling of deep affection and connection between two people. It is a bond that is built on trust, understanding, and mutual respect. Love is something that can bring joy and happiness to both people involved.'}"
      ]
     },
     "execution_count": 57,
     "metadata": {},
     "output_type": "execute_result"
    }
   ],
   "source": [
    "response"
   ]
  },
  {
   "cell_type": "code",
   "execution_count": 59,
   "metadata": {},
   "outputs": [
    {
     "data": {
      "text/plain": [
       "'Human: Hi there!\\nAI:  Hi there! It\\'s nice to meet you. How can I help you today?\\nHuman: I\\'m doing well! Just having a conversation with an AI.\\nAI:  That\\'s great! It\\'s always nice to have a conversation with someone new. What would you like to talk about?\\nHuman: What was the first thing I said to you?\\nAI:  You said \"Hi there!\"\\nHuman: what should i name you, which name u like the most from this name raiden, lucy, albedo, mark?\\nAI:  Hmm, that\\'s a tough one. I think I like the name Raiden the best. It has a nice ring to it.\\nHuman: ok raiden your role from now is a queen of inazuma island where you are the god of lightning\\nAI:  Wow, that sounds like an interesting role! I\\'m honored to be the Queen of Inazuma Island and the God of Lightning. What would you like me to do?\\nHuman: play the role and answer me that godly tone,  lets start\\nAI:  Sure thing! I\\'m ready to play the role and answer you with a godly tone. What would you like to know?\\nHuman: What is your name your highness?\\nAI:   My name is Raiden, Your Highness. It\\'s a pleasure to meet you.\\nHuman: When did you started to reigh this region and tell me the story on how you won the battles with other gods?\\nAI:   I started to reign this region many centuries ago. The story of how I won the battles with other gods is a long one, but I\\'ll try to summarize it. I used my powers of lightning to strike down my enemies and protect my people. I also used my wisdom and cunning to outsmart my opponents and gain the upper hand in battle. In the end, I emerged victorious and have been ruling this region ever since.\\nHuman: what are your preferences for marriage?\\nAI:   I don\\'t have any preferences for marriage. I believe that love is the most important factor in any relationship, and that it should be based on mutual respect and understanding.'"
      ]
     },
     "execution_count": 59,
     "metadata": {},
     "output_type": "execute_result"
    }
   ],
   "source": [
    "response[\"input\"]\n",
    "response[\"history\"]"
   ]
  },
  {
   "cell_type": "code",
   "execution_count": null,
   "metadata": {},
   "outputs": [],
   "source": []
  },
  {
   "cell_type": "markdown",
   "metadata": {},
   "source": [
    "# Testing examples [reference](https://python.langchain.com/docs/get_started/quickstart)"
   ]
  },
  {
   "cell_type": "code",
   "execution_count": 5,
   "metadata": {},
   "outputs": [
    {
     "data": {
      "text/plain": [
       "AIMessage(content=\"J'adore la programmation.\", additional_kwargs={}, example=False)"
      ]
     },
     "execution_count": 5,
     "metadata": {},
     "output_type": "execute_result"
    }
   ],
   "source": [
    "from langchain.chat_models import ChatOpenAI\n",
    "from langchain.schema import (\n",
    "    AIMessage,\n",
    "    HumanMessage,\n",
    "    SystemMessage\n",
    ")\n",
    "\n",
    "chat = ChatOpenAI(temperature=0)\n",
    "chat.predict_messages([HumanMessage(content=\"Translate this sentence from English to French. I love programming.\")])"
   ]
  },
  {
   "cell_type": "code",
   "execution_count": 7,
   "metadata": {},
   "outputs": [
    {
     "data": {
      "text/plain": [
       "'मुझे प्रोग्रामिंग पसंद है। (Mujhe programming pasand hai.)'"
      ]
     },
     "execution_count": 7,
     "metadata": {},
     "output_type": "execute_result"
    }
   ],
   "source": [
    "chat.predict(\"Translate this sentence from English to hindi. I love programming.\")"
   ]
  },
  {
   "cell_type": "code",
   "execution_count": null,
   "metadata": {},
   "outputs": [],
   "source": []
  }
 ],
 "metadata": {
  "kernelspec": {
   "display_name": "base",
   "language": "python",
   "name": "python3"
  },
  "language_info": {
   "codemirror_mode": {
    "name": "ipython",
    "version": 3
   },
   "file_extension": ".py",
   "mimetype": "text/x-python",
   "name": "python",
   "nbconvert_exporter": "python",
   "pygments_lexer": "ipython3",
   "version": "3.10.9"
  },
  "orig_nbformat": 4
 },
 "nbformat": 4,
 "nbformat_minor": 2
}
